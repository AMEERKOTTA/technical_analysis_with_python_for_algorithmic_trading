{
 "cells": [
  {
   "cell_type": "markdown",
   "metadata": {},
   "source": [
    "## TECHNICAL ANALYSIS THEORY AND USE CASES\n",
    "\n",
    "**Learning Outcomes**\n",
    "\n",
    "+ Technical Analysis VS Fundamental Analysis - Difference.\n",
    "+ Technical Analysis and Efficient Market Hypothesis.\n",
    "+ Technical Analysis Do's and Dont's.\n",
    "+ FOREX (Day) Trading."
   ]
  },
  {
   "cell_type": "code",
   "execution_count": null,
   "metadata": {},
   "outputs": [],
   "source": []
  },
  {
   "cell_type": "markdown",
   "metadata": {},
   "source": [
    "**TECHNICAL ANALYSIS VS FUNDAMENTAL ANALYSIS**"
   ]
  },
  {
   "cell_type": "markdown",
   "metadata": {},
   "source": [
    "**Fundamental Analysis**\n",
    "+ Required Datas are Financial Statements and News\n",
    "+ Prices are Driven by Intrinsic (Fair) Value\n",
    "+ Pros and Cons are\n",
    "    + More Data and restatements are required.\n",
    "    + Solid accounting skills required.\n",
    "    + Well embedded in Academics.\n",
    "    + Works equally well for liquid assets and markets.\n",
    "    + takes into account outside manipulation.\n",
    "\n",
    "**Technical Analysis**\n",
    "+ Required data are Historical Prices and Trading Volumes\n",
    "+ Prices Driven by Supply and Demand (Buy and Sell)\n",
    "+ Pros and Cons are\n",
    "    + Data is available and Observable\n",
    "    + No accounting Knowledge Required.\n",
    "    + Pseudoscience for practitioners.\n",
    "    + Only when price/volume data is observble in the market(liquid).\n",
    "    + Less useful when prices are subject to outside manipulation (Central Bank).\n",
    "    \n",
    "**In Both TA and FA are disputed by the Efficient Market Hypothesis (EMH)**"
   ]
  },
  {
   "cell_type": "markdown",
   "metadata": {},
   "source": [
    "**TECHNICAL ANALYSIS AND EFFICIENT MARKET HYPOTHESIS(EMH)**"
   ]
  },
  {
   "cell_type": "markdown",
   "metadata": {},
   "source": [
    "**Technical Analysis**\n",
    "+ It is the methododlogy to forecast prices through the study of Historical prices and Volume data.\n",
    "+ It attempts to exploit patterns and trends to make abnormal profits.\n",
    "+ TA says that Technical Traders can beat the market.\n",
    "\n",
    "**Efficienct Market Hypothesis**\n",
    "+ Financial Markets are Information Efficient.\n",
    "+ Current Prices fully, quickly and rationally reflect all publicly available information.\n",
    "+ So Traders cannot make abnormal profits.\n",
    "+ EMH says Technical Traders Cannot beat the Market.\n",
    "\n",
    "**who is Right?**\n",
    "+ Contreversial Discussion for Decades.\n",
    "+ Empirical studies show mixed results.\n",
    "+ Developed Markets are more efficient than emerging markets.\n",
    "+ Underlying assumptions of EMH do not hold:\n",
    "    + not all the market participants have full access to the all available information.\n",
    "    + Market participants do not act 100% rationally (Behavioural Finance)"
   ]
  },
  {
   "cell_type": "markdown",
   "metadata": {},
   "source": [
    "**TECHNICAL ANALYSIS -- APPLICATIONS AND USECASES**\n",
    "\n",
    "+ Improprer Use cases for Technical Analysis\n",
    "    + Examples:\n",
    "    + Confirmation Bias : we can always find out one/several indicators will give us a signal, that doesn't mean that particular situation will continue in the market.\n",
    "    + Over Confidence Bias : We can't accurately forecast prices/trends for signle events. Traders frequently overstate prediction power of TA (EMH)\n",
    "\n",
    "+ We can gain a small competitive advantage by longer time periods and many trading decisions.\n",
    "    + taking into account several TA indicators and other tools (FA)\n",
    "    + Rigorously Backtesting trading Strategies.\n",
    "    + Closely Measuring and Monitoring Perfomance and Risk over long Period and many Trading Decisions.\n",
    "    \n",
    "+ Capitalize on insights from TA\n",
    "    + Algorithmic Day Trading:\n",
    "        Buying and Selling Instruments multiple times within the same trading Day.\n",
    "    + Bullish Signal:\n",
    "        Buy the Instruments (\"long position\")\n",
    "    + Bearish Signal:\n",
    "        + if long-only : Sell/Close long position (\"neutral)\n",
    "        + if short selling is available: sell and take short position.\n",
    "        \n",
    "+ Unclear / Ambiguous Signal: Then stay neutral or go neutral (no position)"
   ]
  },
  {
   "cell_type": "markdown",
   "metadata": {},
   "source": [
    "**Desired Characteristics to Benefit from Technical Analysis**\n",
    "\n",
    "+ allow shert selling to capitalize on Bullish and Bearish Signals.\n",
    "+ Low trading / Transaction Costs\n",
    "+ High Price Volatility."
   ]
  },
  {
   "cell_type": "code",
   "execution_count": null,
   "metadata": {},
   "outputs": [],
   "source": []
  }
 ],
 "metadata": {
  "kernelspec": {
   "display_name": "Python 3",
   "language": "python",
   "name": "python3"
  },
  "language_info": {
   "codemirror_mode": {
    "name": "ipython",
    "version": 3
   },
   "file_extension": ".py",
   "mimetype": "text/x-python",
   "name": "python",
   "nbconvert_exporter": "python",
   "pygments_lexer": "ipython3",
   "version": "3.8.3"
  }
 },
 "nbformat": 4,
 "nbformat_minor": 4
}
